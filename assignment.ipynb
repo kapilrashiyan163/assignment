{
 "cells": [
  {
   "cell_type": "code",
   "execution_count": null,
   "id": "83d5e15c-a12d-41d1-bde3-2d31065a7cd5",
   "metadata": {},
   "outputs": [],
   "source": [
    " Q.1 Explain with an example each when to use a for loop and a while loop."
   ]
  },
  {
   "cell_type": "code",
   "execution_count": 1,
   "id": "9388e3e5-24c1-4fc3-aee3-4345e519174d",
   "metadata": {},
   "outputs": [
    {
     "name": "stdout",
     "output_type": "stream",
     "text": [
      "1\n",
      "2\n",
      "3\n",
      "4\n",
      "5\n",
      "6\n",
      "7\n",
      "8\n",
      "9\n",
      "10\n"
     ]
    }
   ],
   "source": [
    "#for loop\n",
    " \n",
    "for i in range(1,11):\n",
    "    print(i)"
   ]
  },
  {
   "cell_type": "code",
   "execution_count": 3,
   "id": "c5fcc335-b74b-4894-9537-81e769b112d8",
   "metadata": {},
   "outputs": [
    {
     "name": "stdout",
     "output_type": "stream",
     "text": [
      "1\n",
      "2\n",
      "3\n",
      "4\n",
      "5\n",
      "6\n",
      "7\n",
      "8\n",
      "9\n",
      "10\n"
     ]
    }
   ],
   "source": [
    "#while loop\n",
    "\n",
    "a=1\n",
    "while a<= 10:\n",
    "    print(a)\n",
    "    a=a+1"
   ]
  },
  {
   "cell_type": "code",
   "execution_count": null,
   "id": "dc117843-7ef6-42fd-b602-fc2014cf4149",
   "metadata": {},
   "outputs": [],
   "source": [
    "Q.2 Write a python program to print the sum and product of the first 10 natural numbers using for \n",
    "and while loop"
   ]
  },
  {
   "cell_type": "code",
   "execution_count": 11,
   "id": "d34f708b-b9aa-413a-b3f5-1480f00a134a",
   "metadata": {},
   "outputs": [
    {
     "data": {
      "text/plain": [
       "25"
      ]
     },
     "execution_count": 11,
     "metadata": {},
     "output_type": "execute_result"
    }
   ],
   "source": [
    "#for loop\n",
    "\n",
    "l=[1,2,3,4,7,8]\n",
    "result = 0\n",
    "for i in l:\n",
    "    result  = result+i\n",
    "result\n"
   ]
  },
  {
   "cell_type": "code",
   "execution_count": 12,
   "id": "3dc8a036-ea28-4ddd-b222-7840194f80bb",
   "metadata": {},
   "outputs": [
    {
     "name": "stdin",
     "output_type": "stream",
     "text": [
      "enter your limit 12\n"
     ]
    },
    {
     "data": {
      "text/plain": [
       "78"
      ]
     },
     "execution_count": 12,
     "metadata": {},
     "output_type": "execute_result"
    }
   ],
   "source": [
    "#while loop\n",
    "\n",
    "n=int(input(\"enter your limit\"))\n",
    "starting_point = 0\n",
    "counter = 1\n",
    "\n",
    "while counter <=n:\n",
    "    starting_point = starting_point+counter\n",
    "    counter=counter+1\n",
    "starting_point"
   ]
  },
  {
   "cell_type": "code",
   "execution_count": null,
   "id": "8eaf77ab-7f9a-471d-8b13-52aabd188205",
   "metadata": {},
   "outputs": [],
   "source": [
    "Q.3 Create a python program to compute the electricity bill for a household.\n",
    "The per-unit charges in rupees are as follows: For the first 100 units, the user will be charged Rs. 4.5 per \n",
    "unit, for the next 100 units, the user will be charged Rs. 6 per unit, and for the next 100 units, the user will \n",
    "be charged Rs. 10 per unit, After 300 units and above the user will be charged Rs. 20 per unit.\n",
    "\n",
    "You are required to take the units of electricity consumed in a month from the user as input.\n",
    "Your program must pass this test case: when the unit of electricity consumed by the user in a month is \n",
    "310, the total electricity bill should be 2250"
   ]
  },
  {
   "cell_type": "code",
   "execution_count": 17,
   "id": "e0565809-056c-46fd-86a4-70088841790f",
   "metadata": {},
   "outputs": [
    {
     "name": "stdin",
     "output_type": "stream",
     "text": [
      "Enter the units consumed:  310\n"
     ]
    },
    {
     "name": "stdout",
     "output_type": "stream",
     "text": [
      "Electricity bill: Rs. 2250.0\n"
     ]
    }
   ],
   "source": [
    "# Electricity bill calculator\n",
    "\n",
    "# Per-unit charges in rupees\n",
    "rate_1 = 4.5  # for the first 100 units\n",
    "rate_2 = 6    # for the next 100 units\n",
    "rate_3 = 10   # for the next 100 units\n",
    "rate_4 = 20   # for 300 units and above\n",
    "\n",
    "# Input the units consumed\n",
    "units = int(input(\"Enter the units consumed: \"))\n",
    "\n",
    "# Calculate the bill amount\n",
    "if units <= 100:\n",
    "    bill = units * rate_1\n",
    "elif units <= 200:\n",
    "    bill = 100 * rate_1 + (units - 100) * rate_2\n",
    "elif units <= 300:\n",
    "    bill = 100 * rate_1 + 100 * rate_2 + (units - 200) * rate_3\n",
    "else:\n",
    "    bill = 100 * rate_1 + 100 * rate_2 + 100 * rate_3 + (units - 300) * rate_4\n",
    "\n",
    "# Display the bill amount\n",
    "print(\"Electricity bill: Rs.\", bill)"
   ]
  },
  {
   "cell_type": "code",
   "execution_count": null,
   "id": "0dd90faa-a530-45bd-8870-2c21171a3958",
   "metadata": {},
   "outputs": [],
   "source": [
    "Q4. Create a list of numbers from 1 to 100. Use for loop and while loop to calculate the cube of each \n",
    "number and if the cube of that number is divisible by 4 or 5 then append that number in a list and print \n",
    "that list."
   ]
  },
  {
   "cell_type": "code",
   "execution_count": 23,
   "id": "72f66d46-2a5e-4c81-b9ca-894a8f3495be",
   "metadata": {},
   "outputs": [
    {
     "name": "stdout",
     "output_type": "stream",
     "text": [
      "[1, 8, 27, 64, 125, 216, 343, 512, 729, 1000, 1331, 1728, 2197, 2744, 3375, 4096, 4913, 5832, 6859, 8000, 9261, 10648, 12167, 13824, 15625, 17576, 19683, 21952, 24389, 27000, 29791, 32768, 35937, 39304, 42875, 46656, 50653, 54872, 59319, 64000, 68921, 74088, 79507, 85184, 91125, 97336, 103823, 110592, 117649, 125000, 132651, 140608, 148877, 157464, 166375, 175616, 185193, 195112, 205379, 216000, 226981, 238328, 250047, 262144, 274625, 287496, 300763, 314432, 328509, 343000, 357911, 373248, 389017, 405224, 421875, 438976, 456533, 474552, 493039, 512000, 531441, 551368, 571787, 592704, 614125, 636056, 658503, 681472, 704969, 729000, 753571, 778688, 804357, 830584, 857375, 884736, 912673, 941192, 970299]\n"
     ]
    }
   ],
   "source": [
    "# for loop\n",
    "\n",
    "cubes = []\n",
    "\n",
    "for i in range(1, 100):\n",
    "    cubes.append(i**3)\n",
    "\n",
    "print(cubes)\n"
   ]
  },
  {
   "cell_type": "code",
   "execution_count": null,
   "id": "6822cd0a-87de-4508-9c8b-d9c8a81e9a4c",
   "metadata": {},
   "outputs": [],
   "source": [
    "  Write a program to filter count vowels in the below-given string.\n",
    "\n",
    "string = \"I want to become a data scientist\"\n"
   ]
  },
  {
   "cell_type": "code",
   "execution_count": null,
   "id": "05f50eb9-dca7-4f0e-807e-33f63674e274",
   "metadata": {},
   "outputs": [],
   "source": [
    "sentance=input(\"enter the input\")\n",
    "sent_lower=sentance.lower()\n",
    "count=0\n",
    "l=['a','e','i','o','u']\n",
    "for char in sent_lower:\n",
    "    if char in l:\n",
    "        count=count+1\n",
    "print(count)\n"
   ]
  },
  {
   "cell_type": "code",
   "execution_count": null,
   "id": "dd5c27db-2e98-4fa6-bb7c-43b92765a5dd",
   "metadata": {},
   "outputs": [],
   "source": []
  }
 ],
 "metadata": {
  "kernelspec": {
   "display_name": "Python 3 (ipykernel)",
   "language": "python",
   "name": "python3"
  },
  "language_info": {
   "codemirror_mode": {
    "name": "ipython",
    "version": 3
   },
   "file_extension": ".py",
   "mimetype": "text/x-python",
   "name": "python",
   "nbconvert_exporter": "python",
   "pygments_lexer": "ipython3",
   "version": "3.10.8"
  }
 },
 "nbformat": 4,
 "nbformat_minor": 5
}
